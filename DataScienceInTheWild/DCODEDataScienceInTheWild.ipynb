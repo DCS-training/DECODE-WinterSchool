{
 "cells": [
  {
   "cell_type": "markdown",
   "id": "9d37c602",
   "metadata": {},
   "source": [
    "# Data Science in the Wild"
   ]
  },
  {
   "cell_type": "markdown",
   "id": "f280652a",
   "metadata": {},
   "source": [
    "Welcome to Data Science in the Wild! In today's tutorial, we'll start by reviewing some basics in Python that we'll use along with several packages to load, clean, analyse, and plot a dataset."
   ]
  },
  {
   "cell_type": "markdown",
   "id": "2eac92c1",
   "metadata": {},
   "source": [
    "1. Print statements and simple calculations\n",
    "\n",
    "First, let's review the print() function by introducing ourselves. Fill in the following line of code with your information, and then click \"Run.\""
   ]
  },
  {
   "cell_type": "code",
   "execution_count": 1,
   "id": "43845c00",
   "metadata": {},
   "outputs": [
    {
     "name": "stdout",
     "output_type": "stream",
     "text": [
      "Hello, world! My name is [[enter your name]] and I am a PhD student at [[enter your affiliation]].\n"
     ]
    }
   ],
   "source": [
    "print('Hello, world! My name is [[enter your name]] and I am a PhD student at [[enter your affiliation]].')"
   ]
  },
  {
   "cell_type": "markdown",
   "id": "06174d93",
   "metadata": {},
   "source": [
    "We can also use print statements for calculations. Let's have Python do some basic maths:"
   ]
  },
  {
   "cell_type": "code",
   "execution_count": 2,
   "id": "819a861b",
   "metadata": {},
   "outputs": [
    {
     "name": "stdout",
     "output_type": "stream",
     "text": [
      "20.0\n",
      "84500\n",
      "1\n",
      "-7\n"
     ]
    }
   ],
   "source": [
    "print(40/2)\n",
    "print(100*845)\n",
    "print(5-8+4)\n",
    "print(5-(8+4))"
   ]
  },
  {
   "cell_type": "markdown",
   "id": "45f340ba",
   "metadata": {},
   "source": [
    "The final two equations show us that Python follows the order of operations. We won't go over maths today, but remember this in your calculations.\n",
    "\n",
    "Do you notice anything else about the outputs for these equations? "
   ]
  },
  {
   "cell_type": "markdown",
   "id": "c8bc5020",
   "metadata": {},
   "source": [
    "2. Data types and values\n",
    "\n",
    "Python stores information as strings, integers, and floats. \n",
    "\n",
    "-Strings are enclosed in quotation marks and are often used for textual data, like 'Hello, world!' in our first example. \n",
    "-Integers are whole numbers without decimal points. Integers can be positive or negative. \n",
    "-Floats, AKA \"floating-point numbers,\" contain decimal points.\n",
    "\n",
    "Sometimes, you can run into mixed variable type errors. Here's an example:"
   ]
  },
  {
   "cell_type": "code",
   "execution_count": 3,
   "id": "07c9b903",
   "metadata": {},
   "outputs": [
    {
     "ename": "TypeError",
     "evalue": "can only concatenate str (not \"int\") to str",
     "output_type": "error",
     "traceback": [
      "\u001b[0;31m---------------------------------------------------------------------------\u001b[0m",
      "\u001b[0;31mTypeError\u001b[0m                                 Traceback (most recent call last)",
      "Input \u001b[0;32mIn [3]\u001b[0m, in \u001b[0;36m<cell line: 1>\u001b[0;34m()\u001b[0m\n\u001b[0;32m----> 1\u001b[0m \u001b[38;5;28mprint\u001b[39m(\u001b[38;5;124;43m'\u001b[39;49m\u001b[38;5;124;43m20\u001b[39;49m\u001b[38;5;124;43m'\u001b[39;49m\u001b[43m \u001b[49m\u001b[38;5;241;43m+\u001b[39;49m\u001b[43m \u001b[49m\u001b[38;5;241;43m20\u001b[39;49m)\n",
      "\u001b[0;31mTypeError\u001b[0m: can only concatenate str (not \"int\") to str"
     ]
    }
   ],
   "source": [
    "print('20' + 20)"
   ]
  },
  {
   "cell_type": "markdown",
   "id": "7036c90e",
   "metadata": {},
   "source": [
    "To fix these errors, you can check the type of an input. You can also convert between data types."
   ]
  },
  {
   "cell_type": "code",
   "execution_count": 4,
   "id": "564744a1",
   "metadata": {},
   "outputs": [
    {
     "name": "stdout",
     "output_type": "stream",
     "text": [
      "<class 'float'>\n",
      "<class 'int'>\n",
      "<class 'str'>\n",
      "20\n",
      "84500.0\n",
      "547\n"
     ]
    }
   ],
   "source": [
    "print(type(20.0))\n",
    "print(type(84500))\n",
    "print(type('Hello, world!'))\n",
    "\n",
    "print(int(20.0))\n",
    "print(float(84500))\n",
    "print(str(547))"
   ]
  },
  {
   "cell_type": "markdown",
   "id": "bda75f5f",
   "metadata": {},
   "source": [
    "To store data, we can assign it to a specific value. This can be really handy when you're working with a lot of data.\n",
    " \n",
    "Let's store one of each type of data in three different values:"
   ]
  },
  {
   "cell_type": "code",
   "execution_count": 6,
   "id": "fc8f02ff",
   "metadata": {},
   "outputs": [],
   "source": [
    "my_float=89.76\n",
    "my_int=140\n",
    "my_str='Today is Friday.'"
   ]
  },
  {
   "cell_type": "markdown",
   "id": "69e63fb1",
   "metadata": {},
   "source": [
    "After storing a variable, we can reference it again by name. We can also combine stored variables with new information."
   ]
  },
  {
   "cell_type": "code",
   "execution_count": 7,
   "id": "1ffa5220",
   "metadata": {},
   "outputs": [
    {
     "name": "stdout",
     "output_type": "stream",
     "text": [
      "What day is today?Today is Friday.\n",
      "What day is today? Today is Friday.\n"
     ]
    },
    {
     "data": {
      "text/plain": [
       "229.76"
      ]
     },
     "execution_count": 7,
     "metadata": {},
     "output_type": "execute_result"
    }
   ],
   "source": [
    "print('What day is today?' + my_str)\n",
    "print('What day is today?' + ' ' + my_str)\n",
    "\n",
    "my_float + my_int"
   ]
  },
  {
   "cell_type": "markdown",
   "id": "22b62954",
   "metadata": {},
   "source": [
    "3. Storing data: lists, dictionaries, and dataframes\n",
    "\n",
    "There are many ways to store information in Python. A list stores multiple items in one variable. "
   ]
  },
  {
   "cell_type": "code",
   "execution_count": 8,
   "id": "383a4076",
   "metadata": {},
   "outputs": [
    {
     "name": "stdout",
     "output_type": "stream",
     "text": [
      "macchiato\n",
      "americano\n"
     ]
    }
   ],
   "source": [
    "coffee_list=['espresso', 'latte', 'macchiato', 'mocha', 'americano']\n",
    "print(coffee_list[2])\n",
    "print(coffee_list[-1])"
   ]
  },
  {
   "cell_type": "markdown",
   "id": "491ad47b",
   "metadata": {},
   "source": [
    "A dictionary stores information in key:value format. "
   ]
  },
  {
   "cell_type": "code",
   "execution_count": 9,
   "id": "dcef0b43",
   "metadata": {},
   "outputs": [
    {
     "name": "stdout",
     "output_type": "stream",
     "text": [
      "{'Tokyo': 'Japan', 'Toronto': 'Canada', 'Istanbul': 'Turkey', 'Mexico City': 'Mexico', 'Cairo': 'Egypt', 'Paris': 'France'}\n"
     ]
    }
   ],
   "source": [
    "city_dict={'Tokyo':'Japan', 'Toronto':'Canada', 'Istanbul':'Turkey', 'Mexico City':'Mexico', 'Cairo':'Egypt'}\n",
    "city_dict.update({'Paris':'France'})\n",
    "print(city_dict)"
   ]
  },
  {
   "cell_type": "markdown",
   "id": "3de5b1c3",
   "metadata": {},
   "source": [
    "We can also store information in a dataframe. For this, we'll need to call the DataFrame function in pandas. \n"
   ]
  },
  {
   "cell_type": "code",
   "execution_count": 10,
   "id": "702ccb59",
   "metadata": {},
   "outputs": [
    {
     "name": "stdout",
     "output_type": "stream",
     "text": [
      "           0\n",
      "3   potatoes\n",
      "5    carrots\n",
      "2     apples\n",
      "4     onions\n",
      "10  tomatoes\n"
     ]
    }
   ],
   "source": [
    "import pandas as pd\n",
    "shopping_list=['potatoes', 'carrots', 'apples', 'onions', 'tomatoes']\n",
    "food_quantity=[3, 5, 2, 4, 10]\n",
    "df=pd.DataFrame(shopping_list, food_quantity)\n",
    "print(df)"
   ]
  },
  {
   "cell_type": "markdown",
   "id": "cd1ec5bd",
   "metadata": {},
   "source": [
    "The dataframe holds our information, but it still needs some work. Let's add an index and column titles."
   ]
  },
  {
   "cell_type": "code",
   "execution_count": 11,
   "id": "515cd74c",
   "metadata": {},
   "outputs": [
    {
     "name": "stdout",
     "output_type": "stream",
     "text": [
      "   Quantity      Food\n",
      "0         3  potatoes\n",
      "1         5   carrots\n",
      "2         2    apples\n",
      "3         4    onions\n",
      "4        10  tomatoes\n"
     ]
    }
   ],
   "source": [
    "df.reset_index(inplace = True, drop = False)\n",
    "df=df.rename(columns={'index':'Quantity', 0:'Food'})\n",
    "print(df)"
   ]
  },
  {
   "cell_type": "markdown",
   "id": "c0275eae",
   "metadata": {},
   "source": [
    "Some other useful dataframe functions are as follows--try them on your own:"
   ]
  },
  {
   "cell_type": "code",
   "execution_count": 12,
   "id": "bbbc42bc",
   "metadata": {},
   "outputs": [
    {
     "name": "stdout",
     "output_type": "stream",
     "text": [
      "<class 'pandas.core.frame.DataFrame'>\n",
      "RangeIndex: 5 entries, 0 to 4\n",
      "Data columns (total 2 columns):\n",
      " #   Column    Non-Null Count  Dtype \n",
      "---  ------    --------------  ----- \n",
      " 0   Quantity  5 non-null      int64 \n",
      " 1   Food      5 non-null      object\n",
      "dtypes: int64(1), object(1)\n",
      "memory usage: 208.0+ bytes\n",
      "None\n"
     ]
    },
    {
     "data": {
      "text/plain": [
       "4    tomatoes\n",
       "0    potatoes\n",
       "3      onions\n",
       "1     carrots\n",
       "2      apples\n",
       "Name: Food, dtype: object"
      ]
     },
     "execution_count": 12,
     "metadata": {},
     "output_type": "execute_result"
    }
   ],
   "source": [
    "df.drop(columns='Food')\n",
    "    #removes the selected column\n",
    "\n",
    "print(df.info())\n",
    "    #column info, dimensions, types of data in df\n",
    "    \n",
    "df.iloc[1:3]\n",
    "    #slices dataframe from index position 1 up until (but *not* including!) position 3-->AKA positions 1 & 2 only\n",
    "    \n",
    "df.head(2)\n",
    "    #slices first 2 rows from dataframe\n",
    "    \n",
    "df.tail(2)\n",
    "    #slices final 2 rows from dataframe\n",
    "    \n",
    "df['Food'].sort_values(ascending=False)\n",
    "    #sorts the 'Food' column reverse alphabetically. also applies to numerical values in float and int data types"
   ]
  },
  {
   "cell_type": "markdown",
   "id": "e514fb8a",
   "metadata": {},
   "source": [
    "There is so much more we can do with pandas and dataframes in Python! We'll go over some detailed applications \n",
    "in the next part of the tutorial. If you feel overwhelmed, don't worry--after some time practicing data analysis,\n",
    "it all gets much easier! \n",
    "\n",
    "Don't be afraid to ask for help. And when you're working on your own, StackOverflow and Google are your friends! :)"
   ]
  },
  {
   "cell_type": "markdown",
   "id": "13aedf85",
   "metadata": {},
   "source": [
    "4. Conditionals, counters, comparisons, and loops\n",
    "\n",
    "== checks to see if two values/expressions are equal\n",
    "!= checks to see if two values/expressions are not equal\n",
    "> checks to see if the left-hand value/expression is greater than the right-hand value/expression\n",
    "< checks to see if the left-hand value/expression is less than the right-hand value/expression\n",
    ">= checks to see if the left-hand value/expression is greater than or equal to the right-hand value/expression\n",
    "<= checks to see if the left-hand value/expression is less than or equal to the right-hand value/expression\n",
    "If the comparison condition is satisfied, the whole expression will evaluate to True. If it's not, the whole expression evaluates to False.\n"
   ]
  },
  {
   "cell_type": "code",
   "execution_count": 13,
   "id": "dd712bc7",
   "metadata": {},
   "outputs": [
    {
     "name": "stdout",
     "output_type": "stream",
     "text": [
      "I'll have a cup of tea.\n",
      "I'll have a latte.\n",
      "I'll have a cup of tea.\n",
      "I'll have a cup of tea.\n",
      "I'll have a cup of tea.\n"
     ]
    }
   ],
   "source": [
    "for drink in coffee_list:\n",
    "    if drink=='latte':\n",
    "        print(\"I'll have a latte.\")\n",
    "    else:\n",
    "        print(\"I'll have a cup of tea.\")"
   ]
  },
  {
   "cell_type": "code",
   "execution_count": 14,
   "id": "5101d3a9",
   "metadata": {},
   "outputs": [
    {
     "name": "stdout",
     "output_type": "stream",
     "text": [
      "Tokyo is a city in Japan.\n",
      "Toronto is a city in Canada.\n",
      "Istanbul is a city in Turkey.\n",
      "Mexico City is a city in Mexico.\n",
      "Cairo is a city in Egypt.\n",
      "Paris is a city in France.\n"
     ]
    }
   ],
   "source": [
    "for key in city_dict:\n",
    "  print(key + \" is a city in \" + city_dict[key] + \".\")"
   ]
  },
  {
   "cell_type": "code",
   "execution_count": 15,
   "id": "842b17b8",
   "metadata": {},
   "outputs": [
    {
     "name": "stdout",
     "output_type": "stream",
     "text": [
      "3\n"
     ]
    }
   ],
   "source": [
    "integer_list=[20, 40, 60, 80, 100]\n",
    "counter = 0\n",
    "\n",
    "for i in integer_list:\n",
    "    if i + 15 < 90:\n",
    "        counter += 1\n",
    "print(counter)"
   ]
  },
  {
   "cell_type": "code",
   "execution_count": 16,
   "id": "c7f57d05",
   "metadata": {},
   "outputs": [
    {
     "data": {
      "text/plain": [
       "False"
      ]
     },
     "execution_count": 16,
     "metadata": {},
     "output_type": "execute_result"
    }
   ],
   "source": [
    "animals = ['cat', 'dog', 'ferret', 'goldfish', 'gecko', 'rabbit']\n",
    "\n",
    "'tortoise' in animals"
   ]
  },
  {
   "cell_type": "code",
   "execution_count": 17,
   "id": "30e741d7",
   "metadata": {},
   "outputs": [
    {
     "name": "stdout",
     "output_type": "stream",
     "text": [
      "I don't have a pet tortoise.\n"
     ]
    }
   ],
   "source": [
    "tortoise=False\n",
    "\n",
    "if tortoise:\n",
    "    print ('I have a pet tortoise.')\n",
    "elif not tortoise:\n",
    "    print (\"I don't have a pet tortoise.\")"
   ]
  },
  {
   "cell_type": "markdown",
   "id": "dbdfaa04",
   "metadata": {},
   "source": [
    "These expressions can be useful for checking for information and errors in complex dataframes. We'll try some simple exercises using the df we created above."
   ]
  },
  {
   "cell_type": "code",
   "execution_count": 18,
   "id": "b267c156",
   "metadata": {},
   "outputs": [
    {
     "name": "stdout",
     "output_type": "stream",
     "text": [
      "We don't need to buy any carrots this week.\n",
      "We don't need to buy any tomatoes this week.\n"
     ]
    },
    {
     "ename": "TypeError",
     "evalue": "can only concatenate str (not \"int\") to str",
     "output_type": "error",
     "traceback": [
      "\u001b[0;31m---------------------------------------------------------------------------\u001b[0m",
      "\u001b[0;31mTypeError\u001b[0m                                 Traceback (most recent call last)",
      "Input \u001b[0;32mIn [18]\u001b[0m, in \u001b[0;36m<cell line: 9>\u001b[0;34m()\u001b[0m\n\u001b[1;32m      7\u001b[0m     \u001b[38;5;28;01melse\u001b[39;00m:\n\u001b[1;32m      8\u001b[0m         \u001b[38;5;28mprint\u001b[39m(\u001b[38;5;124m\"\u001b[39m\u001b[38;5;124mWe don\u001b[39m\u001b[38;5;124m'\u001b[39m\u001b[38;5;124mt need to buy any \u001b[39m\u001b[38;5;124m\"\u001b[39m \u001b[38;5;241m+\u001b[39m i \u001b[38;5;241m+\u001b[39m \u001b[38;5;124m\"\u001b[39m\u001b[38;5;124m this week.\u001b[39m\u001b[38;5;124m\"\u001b[39m)\n\u001b[0;32m----> 9\u001b[0m \u001b[38;5;28mprint\u001b[39m(\u001b[38;5;124;43m\"\u001b[39;49m\u001b[38;5;124;43mThere are \u001b[39;49m\u001b[38;5;124;43m\"\u001b[39;49m\u001b[43m \u001b[49m\u001b[38;5;241;43m+\u001b[39;49m\u001b[43m \u001b[49m\u001b[43mcounter\u001b[49m \u001b[38;5;241m+\u001b[39m \u001b[38;5;124m\"\u001b[39m\u001b[38;5;124m items on the shopping list this week.\u001b[39m\u001b[38;5;124m\"\u001b[39m)\n",
      "\u001b[0;31mTypeError\u001b[0m: can only concatenate str (not \"int\") to str"
     ]
    }
   ],
   "source": [
    "fruits_and_veg=['bananas', 'apples', 'potatoes', 'onions']\n",
    "counter=0\n",
    "\n",
    "for i in df['Food']:\n",
    "    if i in fruits_and_veg:\n",
    "        counter += 1\n",
    "    else:\n",
    "        print(\"We don't need to buy any \" + i + \" this week.\")\n",
    "print(\"There are \" + counter + \" items on the shopping list this week.\")\n",
    "\n"
   ]
  },
  {
   "cell_type": "markdown",
   "id": "48554a57",
   "metadata": {},
   "source": [
    "Can you diagnose the error above? How should we fix it?"
   ]
  },
  {
   "cell_type": "code",
   "execution_count": 19,
   "id": "9f3cd38e",
   "metadata": {},
   "outputs": [
    {
     "name": "stdout",
     "output_type": "stream",
     "text": [
      "There are 3 items on the shopping list this week.\n"
     ]
    }
   ],
   "source": [
    "print(\"There are \" + str(counter) + \" items on the shopping list this week.\")"
   ]
  },
  {
   "cell_type": "markdown",
   "id": "9d052569",
   "metadata": {},
   "source": [
    "Part II: Wrangling Data\n",
    "\n",
    "A. Importing and Exploring Data\n",
    "\n",
    "We'll start by importing the packages needed for today's lesson. Then, we'll use pandas to load our data to a dataframe, which we'll call \"df.\""
   ]
  },
  {
   "cell_type": "code",
   "execution_count": 21,
   "id": "e97f1999",
   "metadata": {},
   "outputs": [],
   "source": [
    "import pandas as pd\n",
    "import numpy as np\n",
    "import re\n",
    "import seaborn as sns\n",
    "import matplotlib.pyplot as plt\n",
    "\n",
    "df=pd.read_csv('DCODE_Data.csv', encoding='utf-8')"
   ]
  },
  {
   "cell_type": "markdown",
   "id": "a50bd5e6",
   "metadata": {},
   "source": [
    "After you load a dataset, you can get a summary of its contents with .info(). This is a great feature to remember if you ever find yourself working with extremely large datasets that can't be loaded into Excel or Google Docs.\n",
    "\n",
    ".iloc[] allows you to print a \"slice\" of the dataframe. In this example, we are printing the fifth row of the dataframe. You can also print ranges (e.g. df.iloc[5:10]) or slice from the end of the dataframe (df.iloc[-5])"
   ]
  },
  {
   "cell_type": "code",
   "execution_count": 22,
   "id": "289df5fc",
   "metadata": {},
   "outputs": [
    {
     "name": "stdout",
     "output_type": "stream",
     "text": [
      "<class 'pandas.core.frame.DataFrame'>\n",
      "RangeIndex: 96 entries, 0 to 95\n",
      "Data columns (total 21 columns):\n",
      " #   Column                           Non-Null Count  Dtype  \n",
      "---  ------                           --------------  -----  \n",
      " 0   Contestant Name                  96 non-null     object \n",
      " 1   OUTCOME                          96 non-null     object \n",
      " 2   Day left Villa                   96 non-null     int64  \n",
      " 3   Age                              96 non-null     int64  \n",
      " 4   Profession                       96 non-null     object \n",
      " 5   From                             96 non-null     object \n",
      " 6   Area of UK                       96 non-null     object \n",
      " 7   Gender                           96 non-null     object \n",
      " 8   First Group to enter villa       96 non-null     object \n",
      " 9   Day Joined Villa                 96 non-null     int64  \n",
      " 10  NUMBER OF DAYS IN VILLA          96 non-null     int64  \n",
      " 11  Number of Couples                96 non-null     int64  \n",
      " 12  Casa Amor addition               70 non-null     object \n",
      " 13  Times got Pied                   70 non-null     float64\n",
      " 14  Number of dates                  70 non-null     float64\n",
      " 15  Number of challenges won         70 non-null     float64\n",
      " 16  Number of Bust Ups               56 non-null     float64\n",
      " 17  Do Bits                          38 non-null     object \n",
      " 18  Longest couple length            96 non-null     int64  \n",
      " 19  Was longest couple final couple  96 non-null     object \n",
      " 20  love-island-series               96 non-null     int64  \n",
      "dtypes: float64(4), int64(7), object(10)\n",
      "memory usage: 15.9+ KB\n"
     ]
    }
   ],
   "source": [
    "df.info()"
   ]
  },
  {
   "cell_type": "code",
   "execution_count": 23,
   "id": "131fb452",
   "metadata": {},
   "outputs": [
    {
     "data": {
      "text/plain": [
       "Contestant Name                          Scott Thomas\n",
       "OUTCOME                                   THIRD PLACE\n",
       "Day left Villa                                     45\n",
       "Age                                                28\n",
       "Profession                         nightclub promoter\n",
       "From                                       Manchester\n",
       "Area of UK                                      North\n",
       "Gender                                           male\n",
       "First Group to enter villa                        YES\n",
       "Day Joined Villa                                    1\n",
       "NUMBER OF DAYS IN VILLA                            44\n",
       "Number of Couples                                   2\n",
       "Casa Amor addition                                NaN\n",
       "Times got Pied                                    NaN\n",
       "Number of dates                                   NaN\n",
       "Number of challenges won                          NaN\n",
       "Number of Bust Ups                                1.0\n",
       "Do Bits                                           NaN\n",
       "Longest couple length                              39\n",
       "Was longest couple final couple                   YES\n",
       "love-island-series                               2016\n",
       "Name: 5, dtype: object"
      ]
     },
     "execution_count": 23,
     "metadata": {},
     "output_type": "execute_result"
    }
   ],
   "source": [
    "df.iloc[5]"
   ]
  },
  {
   "cell_type": "markdown",
   "id": "98106b7f",
   "metadata": {},
   "source": [
    "From the output of these lines, what can you observe about the dataset? For instance:\n",
    "\n",
    "1. How many rows and columns are present?\n",
    "2. What does the \"Non-Null Count\" mean?\n",
    "3. What types of data are in the columns?\n",
    "4. Are the columns labelled? Are the labels appropriate?\n",
    "5. Do you see any evidence of errors or gaps in the data?\n",
    "6. Is the formatting uniform/standard?\n",
    "\n",
    "Datasets are unique, and so the cleaning process can't be entirely standardized for every situation. The questions above can help you determine what needs to be adjusted on your dataset before you can move on to the next phase of your project.\n",
    "\n",
    "We can print information about a column with .describe(). Note that the output differs \n",
    "#depending on the dtype stored in the column:\n",
    "\n",
    "*A quick note about \"dtypes\"*: dtypes are not *exactly* equivalent to \"types\" in Python. We won't get into specifics in this tutorial, but the differences have to do with how the computer reads pixels in complex data structures. \n",
    "Like type errors, dtype errors are very common, so you might need to convert between them. dtypes int64 and float64 are similar to types int and float; dtypes of the object class typically store textual data, like tupe str."
   ]
  },
  {
   "cell_type": "code",
   "execution_count": 24,
   "id": "42a51ea9",
   "metadata": {},
   "outputs": [
    {
     "data": {
      "text/plain": [
       "count        96\n",
       "unique        6\n",
       "top       South\n",
       "freq         57\n",
       "Name: Area of UK, dtype: object"
      ]
     },
     "execution_count": 24,
     "metadata": {},
     "output_type": "execute_result"
    }
   ],
   "source": [
    "df['Area of UK'].describe()"
   ]
  },
  {
   "cell_type": "code",
   "execution_count": 25,
   "id": "4796f910",
   "metadata": {},
   "outputs": [
    {
     "data": {
      "text/plain": [
       "count      96.000000\n",
       "mean     2017.125000\n",
       "std         0.811107\n",
       "min      2016.000000\n",
       "25%      2016.000000\n",
       "50%      2017.000000\n",
       "75%      2018.000000\n",
       "max      2018.000000\n",
       "Name: love-island-series, dtype: float64"
      ]
     },
     "execution_count": 25,
     "metadata": {},
     "output_type": "execute_result"
    }
   ],
   "source": [
    "df['love-island-series'].describe()"
   ]
  },
  {
   "cell_type": "markdown",
   "id": "0751f506",
   "metadata": {},
   "source": [
    "B. Cleaning Data\n",
    "\n",
    "Now that we have an idea of what our data contains, let's do some basic cleaning. Cleaning processes will differ depending upon the next steps in our analysis. For instance, cleaning data for text mining often involves stemming and lemmatizing textual data. For our purposes, we're going to be plotting our data. This means that we need to standardize numerical data, perform simple calculations, remove irrelevant data, and check for errors.  First, let's check for any null or NaN values. We won't be able to graph numerical data that contains null values, so this step is important."
   ]
  },
  {
   "cell_type": "code",
   "execution_count": 26,
   "id": "8bf607fa",
   "metadata": {},
   "outputs": [
    {
     "name": "stdout",
     "output_type": "stream",
     "text": [
      "202\n"
     ]
    },
    {
     "data": {
      "text/plain": [
       "Casa Amor addition          True\n",
       "Times got Pied              True\n",
       "Number of dates             True\n",
       "Number of challenges won    True\n",
       "Number of Bust Ups          True\n",
       "Do Bits                     True\n",
       "dtype: bool"
      ]
     },
     "execution_count": 26,
     "metadata": {},
     "output_type": "execute_result"
    }
   ],
   "source": [
    "print(df.isnull().sum().sum())\n",
    "\n",
    "df.isna().any()[lambda x: x]\n",
    "\n",
    "#https://www.w3schools.com/python/python_lambda.asp is a great resource for more about the lambda function. \n",
    "#In short, this is a small function contained to one line, meaning you can't call it again without running\n",
    "#the same code. Lambda functions are helpful in text cleaning, when you're performing a quick check that \n",
    "#won't be repeated."
   ]
  },
  {
   "cell_type": "markdown",
   "id": "556aaa65",
   "metadata": {},
   "source": [
    "So, there are 202 null values in six columns.\n",
    "\n",
    "We can replace NaNs with 0s. Then, we'll need to convert the dtypes to int64 to remove the extra decimals in the numbers.\n",
    "\n",
    "Before we do that, let's try performing a calculation with null values so we can get familiar with the error message."
   ]
  },
  {
   "cell_type": "code",
   "execution_count": 27,
   "id": "0700b160",
   "metadata": {},
   "outputs": [
    {
     "name": "stdout",
     "output_type": "stream",
     "text": [
      "0   NaN\n",
      "1   NaN\n",
      "2   NaN\n",
      "3   NaN\n",
      "4   NaN\n",
      "Name: Number of dates, dtype: float64\n"
     ]
    }
   ],
   "source": [
    "print(df['Number of dates'].head())\n"
   ]
  },
  {
   "cell_type": "code",
   "execution_count": 28,
   "id": "58378599",
   "metadata": {},
   "outputs": [
    {
     "data": {
      "text/plain": [
       "nan"
      ]
     },
     "execution_count": 28,
     "metadata": {},
     "output_type": "execute_result"
    }
   ],
   "source": [
    "df['Number of dates'].iloc[0:5].mean()"
   ]
  },
  {
   "cell_type": "code",
   "execution_count": 29,
   "id": "9192b2b6",
   "metadata": {},
   "outputs": [
    {
     "name": "stdout",
     "output_type": "stream",
     "text": [
      "<class 'pandas.core.frame.DataFrame'>\n",
      "RangeIndex: 96 entries, 0 to 95\n",
      "Data columns (total 21 columns):\n",
      " #   Column                           Non-Null Count  Dtype  \n",
      "---  ------                           --------------  -----  \n",
      " 0   Contestant Name                  96 non-null     object \n",
      " 1   OUTCOME                          96 non-null     object \n",
      " 2   Day left Villa                   96 non-null     int64  \n",
      " 3   Age                              96 non-null     int64  \n",
      " 4   Profession                       96 non-null     object \n",
      " 5   From                             96 non-null     object \n",
      " 6   Area of UK                       96 non-null     object \n",
      " 7   Gender                           96 non-null     object \n",
      " 8   First Group to enter villa       96 non-null     object \n",
      " 9   Day Joined Villa                 96 non-null     int64  \n",
      " 10  NUMBER OF DAYS IN VILLA          96 non-null     int64  \n",
      " 11  Number of Couples                96 non-null     int64  \n",
      " 12  Casa Amor addition               96 non-null     object \n",
      " 13  Times got Pied                   96 non-null     float64\n",
      " 14  Number of dates                  96 non-null     float64\n",
      " 15  Number of challenges won         96 non-null     float64\n",
      " 16  Number of Bust Ups               96 non-null     float64\n",
      " 17  Do Bits                          96 non-null     object \n",
      " 18  Longest couple length            96 non-null     int64  \n",
      " 19  Was longest couple final couple  96 non-null     object \n",
      " 20  love-island-series               96 non-null     int64  \n",
      "dtypes: float64(4), int64(7), object(10)\n",
      "memory usage: 15.9+ KB\n"
     ]
    }
   ],
   "source": [
    "df=df.replace(np.nan,0)\n",
    "df.info()"
   ]
  },
  {
   "cell_type": "markdown",
   "id": "2db99bbc",
   "metadata": {},
   "source": [
    "Now, no null values exist. But it looks like replacing the NaN values have changed the dtypes of the affected columns.\n",
    "Let's check the output of one of the columns and standardize our dtypes."
   ]
  },
  {
   "cell_type": "code",
   "execution_count": 30,
   "id": "fb580917",
   "metadata": {},
   "outputs": [
    {
     "data": {
      "text/plain": [
       "Contestant Name                                Adam Jukes\n",
       "OUTCOME                                            DUMPED\n",
       "Day left Villa                                         41\n",
       "Age                                                    23\n",
       "Profession                         recruitment consultant\n",
       "From                                           Manchester\n",
       "Area of UK                                          North\n",
       "Gender                                               male\n",
       "First Group to enter villa                             NO\n",
       "Day Joined Villa                                       34\n",
       "NUMBER OF DAYS IN VILLA                                 7\n",
       "Number of Couples                                       1\n",
       "Casa Amor addition                                      0\n",
       "Times got Pied                                        0.0\n",
       "Number of dates                                       0.0\n",
       "Number of challenges won                              0.0\n",
       "Number of Bust Ups                                    0.0\n",
       "Do Bits                                                 0\n",
       "Longest couple length                                   4\n",
       "Was longest couple final couple                       YES\n",
       "love-island-series                                   2016\n",
       "Name: 10, dtype: object"
      ]
     },
     "execution_count": 30,
     "metadata": {},
     "output_type": "execute_result"
    }
   ],
   "source": [
    "df.iloc[10]"
   ]
  },
  {
   "cell_type": "code",
   "execution_count": 31,
   "id": "f6f35dc6",
   "metadata": {},
   "outputs": [],
   "source": [
    "for column in df.columns:\n",
    "    if df[column].dtype == 'float64':\n",
    "        df[column] = df[column].astype(np.int64)    "
   ]
  },
  {
   "cell_type": "code",
   "execution_count": 118,
   "id": "b5104498",
   "metadata": {},
   "outputs": [
    {
     "name": "stdout",
     "output_type": "stream",
     "text": [
      "<class 'pandas.core.frame.DataFrame'>\n",
      "RangeIndex: 96 entries, 0 to 95\n",
      "Data columns (total 21 columns):\n",
      " #   Column                           Non-Null Count  Dtype \n",
      "---  ------                           --------------  ----- \n",
      " 0   Contestant Name                  96 non-null     object\n",
      " 1   OUTCOME                          96 non-null     object\n",
      " 2   Day left Villa                   96 non-null     int64 \n",
      " 3   Age                              96 non-null     int64 \n",
      " 4   Profession                       96 non-null     object\n",
      " 5   From                             96 non-null     object\n",
      " 6   Area of UK                       96 non-null     object\n",
      " 7   Gender                           96 non-null     object\n",
      " 8   First Group to enter villa       96 non-null     object\n",
      " 9   Day Joined Villa                 96 non-null     int64 \n",
      " 10  NUMBER OF DAYS IN VILLA          96 non-null     int64 \n",
      " 11  Number of Couples                96 non-null     int64 \n",
      " 12  Casa Amor addition               96 non-null     object\n",
      " 13  Times got Pied                   96 non-null     int64 \n",
      " 14  Number of dates                  96 non-null     int64 \n",
      " 15  Number of challenges won         96 non-null     int64 \n",
      " 16  Number of Bust Ups               96 non-null     int64 \n",
      " 17  Do Bits                          96 non-null     object\n",
      " 18  Longest couple length            96 non-null     int64 \n",
      " 19  Was longest couple final couple  96 non-null     object\n",
      " 20  love-island-series               96 non-null     int64 \n",
      "dtypes: int64(11), object(10)\n",
      "memory usage: 15.9+ KB\n"
     ]
    }
   ],
   "source": [
    "df.info()"
   ]
  },
  {
   "cell_type": "markdown",
   "id": "b1cc8be3",
   "metadata": {},
   "source": [
    "If you're working with a very large file, you might want to drop data that isn't relevant to your\n",
    "research question."
   ]
  },
  {
   "cell_type": "code",
   "execution_count": 32,
   "id": "ef3094ab",
   "metadata": {},
   "outputs": [],
   "source": [
    "df=df.drop(columns=['Area of UK', 'Number of Couples', 'Longest couple length',])"
   ]
  },
  {
   "cell_type": "markdown",
   "id": "cfb0adf6",
   "metadata": {},
   "source": [
    "The column titles in our dataset could be improved. We'll also want to standardize the capitalization in our data. We'll capitalize the first word of data in our \n",
    "(note: see more pandas functions related to capitalization here https://pandas.pydata.org/docs/reference/api/pandas.Series.str.capitalize.html)\n"
   ]
  },
  {
   "cell_type": "code",
   "execution_count": 33,
   "id": "20bb9ce9",
   "metadata": {},
   "outputs": [],
   "source": [
    "def standard_caps(df):\n",
    "    df = df.apply(lambda x: x.str.capitalize() if x.dtype == \"object\" else x) \n",
    "    return df\n"
   ]
  },
  {
   "cell_type": "code",
   "execution_count": 34,
   "id": "0be37c86",
   "metadata": {},
   "outputs": [
    {
     "data": {
      "text/plain": [
       "Contestant Name                                Adam jukes\n",
       "OUTCOME                                            Dumped\n",
       "Day left Villa                                         41\n",
       "Age                                                    23\n",
       "Profession                         Recruitment consultant\n",
       "From                                           Manchester\n",
       "Gender                                               Male\n",
       "First Group to enter villa                             No\n",
       "Day Joined Villa                                       34\n",
       "NUMBER OF DAYS IN VILLA                                 7\n",
       "Casa Amor addition                                    NaN\n",
       "Times got Pied                                          0\n",
       "Number of dates                                         0\n",
       "Number of challenges won                                0\n",
       "Number of Bust Ups                                      0\n",
       "Do Bits                                               NaN\n",
       "Was longest couple final couple                       Yes\n",
       "love-island-series                                   2016\n",
       "Name: 10, dtype: object"
      ]
     },
     "execution_count": 34,
     "metadata": {},
     "output_type": "execute_result"
    }
   ],
   "source": [
    "df=standard_caps(df)\n",
    "df.iloc[10]"
   ]
  },
  {
   "cell_type": "markdown",
   "id": "6b5d82ad",
   "metadata": {},
   "source": [
    "Let's also address the capitalization in the column titles:"
   ]
  },
  {
   "cell_type": "code",
   "execution_count": 35,
   "id": "032fe8d4",
   "metadata": {},
   "outputs": [
    {
     "name": "stdout",
     "output_type": "stream",
     "text": [
      "<class 'pandas.core.frame.DataFrame'>\n",
      "RangeIndex: 96 entries, 0 to 95\n",
      "Data columns (total 18 columns):\n",
      " #   Column                           Non-Null Count  Dtype \n",
      "---  ------                           --------------  ----- \n",
      " 0   Contestant Name                  96 non-null     object\n",
      " 1   Outcome                          96 non-null     object\n",
      " 2   Day Left Villa                   96 non-null     int64 \n",
      " 3   Age                              96 non-null     int64 \n",
      " 4   Profession                       96 non-null     object\n",
      " 5   From                             96 non-null     object\n",
      " 6   Gender                           96 non-null     object\n",
      " 7   First Group To Enter Villa       96 non-null     object\n",
      " 8   Day Joined Villa                 96 non-null     int64 \n",
      " 9   Number Of Days In Villa          96 non-null     int64 \n",
      " 10  Casa Amor Addition               70 non-null     object\n",
      " 11  Times Got Pied                   96 non-null     int64 \n",
      " 12  Number Of Dates                  96 non-null     int64 \n",
      " 13  Number Of Challenges Won         96 non-null     int64 \n",
      " 14  Number Of Bust Ups               96 non-null     int64 \n",
      " 15  Do Bits                          38 non-null     object\n",
      " 16  Was Longest Couple Final Couple  96 non-null     object\n",
      " 17  Love-Island-Series               96 non-null     int64 \n",
      "dtypes: int64(9), object(9)\n",
      "memory usage: 13.6+ KB\n"
     ]
    }
   ],
   "source": [
    "df.columns = map(str.title, df.columns)\n",
    "df.info()"
   ]
  },
  {
   "cell_type": "markdown",
   "id": "f8d372de",
   "metadata": {},
   "source": [
    "We can see what's in a column by printing df['column title'], but sometimes the output is too large to be displayd in Python. We can use .unique() to print one instance of each value in a column."
   ]
  },
  {
   "cell_type": "code",
   "execution_count": 36,
   "id": "665bca97",
   "metadata": {},
   "outputs": [
    {
     "name": "stdout",
     "output_type": "stream",
     "text": [
      "['Circus performer' 'Carpenter' 'Model' 'Sales executive' 'Makeup artist'\n",
      " 'Nightclub promoter' 'Wrestler' 'Glamour model' 'Project manager'\n",
      " 'Recruitment consultant' 'Events manager' 'Student' 'Marketing manager'\n",
      " 'Salesman' 'Barman' 'Stripper' 'Miss great britain' 'Newsagent'\n",
      " 'Personal trainer' 'Osteopath' 'Nurse' 'Singer' 'Surveryor' 'Dancer'\n",
      " 'Hairdresser' 'Explosive ordance disposal' 'Golf clothing ambassador'\n",
      " 'Motorsport grid girl' 'Fitness instructor' 'Music professional'\n",
      " 'Personal assistant' 'Oil rig worker' 'Semi-pro footballer'\n",
      " 'Business director' 'Fashion stylist' 'Teaching assistant'\n",
      " 'Careers advisor' 'Entrepreneur' 'Dental nurse' 'Plumber' 'Barber'\n",
      " 'Groundsworker' 'Sales manager' 'Retail manager' 'Construction worker'\n",
      " 'West end perfromer' 'Doctor' 'Barmaid' 'Electrical engineer'\n",
      " 'Cabin crew' 'Social media host' 'Solicitor' 'Government advisor'\n",
      " 'Business manager' 'Gym owner' 'Dj ' 'Surfer' 'Account manager' 'Boxer'\n",
      " 'Make up artist' 'Socialite' 'Footballer' 'Structural glazier'\n",
      " 'Beautician' 'Customer service' 'Singer/dancer' 'Tanning shop'\n",
      " 'Car sales']\n"
     ]
    }
   ],
   "source": [
    "jobs=df['Profession'].unique()\n",
    "print(jobs)"
   ]
  },
  {
   "cell_type": "code",
   "execution_count": 37,
   "id": "be1b4c5c",
   "metadata": {},
   "outputs": [
    {
     "name": "stdout",
     "output_type": "stream",
     "text": [
      "[26 25 24 22 20 28 19 23 21 30 27 31 18 29]\n"
     ]
    }
   ],
   "source": [
    "ages=df['Age'].unique()\n",
    "print(ages)"
   ]
  },
  {
   "cell_type": "code",
   "execution_count": 125,
   "id": "f49c13ec",
   "metadata": {},
   "outputs": [
    {
     "name": "stdout",
     "output_type": "stream",
     "text": [
      "['Kent' 'Essex' 'Birmingham' 'Stevenage' 'Manchester' 'Belfast' 'Wirral'\n",
      " 'Oxford' 'Surrey' 'Blackpool' 'London' 'Newcastle' 'Port talbot' 'Exeter'\n",
      " 'Hertfordshire' 'Milton keynes' 'Hull' 'Teddington' 'Hampshire' 'York'\n",
      " 'Wales' 'Scotland' 'Cheltenham' 'Guildford' 'Liverpool' 'Middlesbrough'\n",
      " 'Bath' 'Hastings' 'Southampton' 'Brighton' 'Dublin' 'Wiltshire' 'Leeds'\n",
      " 'Devon' 'Norwich' 'Coventry' 'Staffordshire' 'Plymouth' 'Bournemouth'\n",
      " 'Sheffield' 'Burnley']\n"
     ]
    }
   ],
   "source": [
    "cities=df['From'].unique()\n",
    "print(cities)"
   ]
  },
  {
   "cell_type": "markdown",
   "id": "ac6fa86a",
   "metadata": {},
   "source": [
    "Take a look at each of the three outputs. Do you see any errors, glitches, or problems that we should clean up before moving on to our plots?"
   ]
  },
  {
   "cell_type": "code",
   "execution_count": 38,
   "id": "2c582d71",
   "metadata": {},
   "outputs": [
    {
     "data": {
      "text/plain": [
       "Contestant Name                               Camilla thurlow\n",
       "Outcome                                             Runner up\n",
       "Day Left Villa                                             52\n",
       "Age                                                        27\n",
       "Profession                         Explosive ordance disposal\n",
       "From                                                 Scotland\n",
       "Gender                                                 Female\n",
       "First Group To Enter Villa                                Yes\n",
       "Day Joined Villa                                            1\n",
       "Number Of Days In Villa                                    51\n",
       "Casa Amor Addition                                         No\n",
       "Times Got Pied                                              2\n",
       "Number Of Dates                                             7\n",
       "Number Of Challenges Won                                    1\n",
       "Number Of Bust Ups                                          0\n",
       "Do Bits                                                   NaN\n",
       "Was Longest Couple Final Couple                            No\n",
       "Love-Island-Series                                       2017\n",
       "Name: 28, dtype: object"
      ]
     },
     "execution_count": 38,
     "metadata": {},
     "output_type": "execute_result"
    }
   ],
   "source": [
    "df.loc[df.isin(['Scotland']).any(axis=1)].index.tolist()\n",
    "#Python looks for 'Scotland' anywhere in the dataframe and prints the location in the format [row, col]. So, we \n",
    "#know the error is in row 28.\n",
    "df.iloc[28]"
   ]
  },
  {
   "cell_type": "markdown",
   "id": "92a0f462",
   "metadata": {},
   "source": [
    "In a small dataset, it's easy to manual correct errors. In this case, we can try Google to learn where in Scotland the contestant was born. According to Wikipedia, she is from Dumfries. We can manually correct this in the dataframe."
   ]
  },
  {
   "cell_type": "code",
   "execution_count": 39,
   "id": "8d1db553",
   "metadata": {},
   "outputs": [
    {
     "data": {
      "text/plain": [
       "Contestant Name                               Camilla thurlow\n",
       "Outcome                                             Runner up\n",
       "Day Left Villa                                             52\n",
       "Age                                                        27\n",
       "Profession                         Explosive ordance disposal\n",
       "From                                                 Dumfries\n",
       "Gender                                                 Female\n",
       "First Group To Enter Villa                                Yes\n",
       "Day Joined Villa                                            1\n",
       "Number Of Days In Villa                                    51\n",
       "Casa Amor Addition                                         No\n",
       "Times Got Pied                                              2\n",
       "Number Of Dates                                             7\n",
       "Number Of Challenges Won                                    1\n",
       "Number Of Bust Ups                                          0\n",
       "Do Bits                                                   NaN\n",
       "Was Longest Couple Final Couple                            No\n",
       "Love-Island-Series                                       2017\n",
       "Name: 28, dtype: object"
      ]
     },
     "execution_count": 39,
     "metadata": {},
     "output_type": "execute_result"
    }
   ],
   "source": [
    "df.loc[28, 'From'] = 'Dumfries'\n",
    "df.iloc[28]"
   ]
  },
  {
   "cell_type": "markdown",
   "id": "6970f847",
   "metadata": {},
   "source": [
    "For our final step in cleaning today, we'll edit the column names so they're more concise."
   ]
  },
  {
   "cell_type": "code",
   "execution_count": 40,
   "id": "4a26ea51",
   "metadata": {},
   "outputs": [
    {
     "name": "stdout",
     "output_type": "stream",
     "text": [
      "<class 'pandas.core.frame.DataFrame'>\n",
      "RangeIndex: 96 entries, 0 to 95\n",
      "Data columns (total 18 columns):\n",
      " #   Column                      Non-Null Count  Dtype \n",
      "---  ------                      --------------  ----- \n",
      " 0   Contestant Name             96 non-null     object\n",
      " 1   Outcome                     96 non-null     object\n",
      " 2   Last Day                    96 non-null     int64 \n",
      " 3   Age                         96 non-null     int64 \n",
      " 4   Profession                  96 non-null     object\n",
      " 5   From                        96 non-null     object\n",
      " 6   Gender                      96 non-null     object\n",
      " 7   First Group To Enter Villa  96 non-null     object\n",
      " 8   First Day                   96 non-null     int64 \n",
      " 9   Number Of Days In Villa     96 non-null     int64 \n",
      " 10  Casa Amor Addition          70 non-null     object\n",
      " 11  Times Got Pied              96 non-null     int64 \n",
      " 12  Number Of Dates             96 non-null     int64 \n",
      " 13  Number Of Challenges Won    96 non-null     int64 \n",
      " 14  Number Of Bust Ups          96 non-null     int64 \n",
      " 15  Do Bits                     38 non-null     object\n",
      " 16  Longest/Final Couple        96 non-null     object\n",
      " 17  Series Year                 96 non-null     int64 \n",
      "dtypes: int64(9), object(9)\n",
      "memory usage: 13.6+ KB\n"
     ]
    }
   ],
   "source": [
    "df=df.rename(columns={\"Day Left Villa\": \"Last Day\", \"Day Joined Villa\": \"First Day\", \n",
    "                      \"Was Longest Couple Final Couple\":\"Longest/Final Couple\", \n",
    "                      \"Love-Island-Series\":\"Series Year\"})\n",
    "df.info()"
   ]
  },
  {
   "cell_type": "markdown",
   "id": "b8cba248",
   "metadata": {},
   "source": [
    "We have a list of the contestants' ages, and we can calculate formulas such as standard deviation and mean computationally:"
   ]
  },
  {
   "cell_type": "code",
   "execution_count": 41,
   "id": "59fbb6b5",
   "metadata": {},
   "outputs": [
    {
     "data": {
      "text/plain": [
       "count    96.000000\n",
       "mean     23.677083\n",
       "std       2.693051\n",
       "min      18.000000\n",
       "25%      22.000000\n",
       "50%      23.000000\n",
       "75%      25.000000\n",
       "max      31.000000\n",
       "Name: Age, dtype: float64"
      ]
     },
     "execution_count": 41,
     "metadata": {},
     "output_type": "execute_result"
    }
   ],
   "source": [
    "df['Age'].describe()"
   ]
  },
  {
   "cell_type": "markdown",
   "id": "fee8ff3c",
   "metadata": {},
   "source": [
    "But for certain research questions, we need to know the frequency of the distribution of the data. We can do this with .value_counts(), which creates a frequency table of unique values as an array. With a few more lines of code, we can format the array as a dataframe."
   ]
  },
  {
   "cell_type": "code",
   "execution_count": 42,
   "id": "012a4245",
   "metadata": {},
   "outputs": [
    {
     "name": "stdout",
     "output_type": "stream",
     "text": [
      "22    16\n",
      "23    15\n",
      "25    14\n",
      "20    10\n",
      "26     9\n",
      "24     8\n",
      "21     8\n",
      "27     6\n",
      "28     4\n",
      "31     2\n",
      "19     1\n",
      "30     1\n",
      "18     1\n",
      "29     1\n",
      "Name: Age, dtype: int64\n"
     ]
    }
   ],
   "source": [
    "age_counts=df['Age'].value_counts()\n",
    "df_ages=pd.DataFrame(data=age_counts)\n",
    "df_ages=df_ages.reset_index(drop=False)\n",
    "df_ages=df_ages.rename(columns={'index':'Age', 'Age':'Count'})\n",
    "\n",
    "print(age_counts)"
   ]
  },
  {
   "cell_type": "markdown",
   "id": "31d5cf82",
   "metadata": {},
   "source": [
    "Part C: Plotting Data\n",
    "\n",
    "We're ready for our first plot, which we'll format as a simple barplot in Seaborn. (note: Seaborn, which runs on top of MatPlotLib, can create very interesting visualizations for a variety of datasets. Here is a gallery: https://seaborn.pydata.org)"
   ]
  },
  {
   "cell_type": "code",
   "execution_count": 43,
   "id": "ba3accf2",
   "metadata": {},
   "outputs": [
    {
     "data": {
      "image/png": "[encoded data removed]",
      "text/plain": [
       "<Figure size 432x288 with 1 Axes>"
      ]
     },
     "metadata": {
      "needs_background": "light"
     },
     "output_type": "display_data"
    }
   ],
   "source": [
    "sns.barplot(data=df_ages, x=\"Age\", y=\"Count\")\n",
    "plt.title('Ages of \"Love Island\" Contestants')\n",
    "plt.xlabel('Age')\n",
    "plt.ylabel('Frequency')\n",
    "plt.show()"
   ]
  },
  {
   "cell_type": "markdown",
   "id": "215d1137",
   "metadata": {},
   "source": [
    "Barplots, also known as histograms, are good for categorical data (in other words, sorting data into categories and measuring the size, percentage, or quantity or each category). Even though we are organising our data by number, each age functions as a category in this case. \n",
    "\n",
    "Let's try plotting numerical data. We'll use Seaborn to make a scatterplot to see whether the amount of time a contestant spent in the villa affected how many dates they got during the series. "
   ]
  },
  {
   "cell_type": "code",
   "execution_count": 44,
   "id": "10c059a1",
   "metadata": {},
   "outputs": [
    {
     "data": {
      "image/png": "[encoded data removed]",
      "text/plain": [
       "<Figure size 494.875x432 with 1 Axes>"
      ]
     },
     "metadata": {
      "needs_background": "light"
     },
     "output_type": "display_data"
    }
   ],
   "source": [
    "sns.relplot(x=\"Number Of Days In Villa\", y=\"Number Of Dates\", hue=\"Series Year\", alpha=.5, palette=\"bright\",\n",
    "            height=6, data=df)\n",
    "plt.title('Days vs. Dates')\n",
    "plt.show()"
   ]
  },
  {
   "cell_type": "markdown",
   "id": "910683a6",
   "metadata": {},
   "source": [
    "We can also change the size of the scatter points as another variable in Seaborn."
   ]
  },
  {
   "cell_type": "code",
   "execution_count": 45,
   "id": "a35b34f6",
   "metadata": {},
   "outputs": [
    {
     "data": {
      "image/png": "[encoded data removed]",
      "text/plain": [
       "<Figure size 585.75x432 with 1 Axes>"
      ]
     },
     "metadata": {
      "needs_background": "light"
     },
     "output_type": "display_data"
    }
   ],
   "source": [
    "sns.relplot(x=\"Number Of Days In Villa\", y=\"Number Of Dates\", hue=\"Series Year\", \n",
    "            size='Number Of Challenges Won', sizes=(40,400), alpha=.5, \n",
    "            height=6, data=df)\n",
    "plt.title('Days vs. Dates')\n",
    "plt.show()"
   ]
  },
  {
   "cell_type": "code",
   "execution_count": null,
   "id": "6c466d87",
   "metadata": {},
   "outputs": [],
   "source": []
  }
 ],
 "metadata": {
  "kernelspec": {
   "display_name": "Python 3 (ipykernel)",
   "language": "python",
   "name": "python3"
  },
  "language_info": {
   "codemirror_mode": {
    "name": "ipython",
    "version": 3
   },
   "file_extension": ".py",
   "mimetype": "text/x-python",
   "name": "python",
   "nbconvert_exporter": "python",
   "pygments_lexer": "ipython3",
   "version": "3.9.12"
  }
 },
 "nbformat": 4,
 "nbformat_minor": 5
}
